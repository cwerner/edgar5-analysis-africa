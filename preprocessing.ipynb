{
 "cells": [
  {
   "cell_type": "markdown",
   "metadata": {},
   "source": [
    "# Proprocessing of input data for EDGAR v5 N2O Emissions of Africa for 2015 analysis\n",
    "\n",
    "Data sources:  \n",
    "- EDGAR v5 data [source](https://edgar.jrc.ec.europa.eu/overview.php?v=50_GHG)  \n",
    "- Bioclimatic zones [source](https://)\n",
    "- Livestock numbers [source](https://)"
   ]
  },
  {
   "cell_type": "code",
   "execution_count": 1,
   "metadata": {},
   "outputs": [],
   "source": [
    "%matplotlib inline\n",
    "%load_ext autoreload\n",
    "%autoreload 2"
   ]
  },
  {
   "cell_type": "code",
   "execution_count": 2,
   "metadata": {},
   "outputs": [],
   "source": [
    "from pathlib import Path\n",
    "import math\n",
    "import matplotlib.pyplot as plt\n",
    "import numpy as np\n",
    "import pandas as pd\n",
    "import sys\n",
    "import xarray as xr\n",
    "\n",
    "module_path = Path.cwd().resolve()\n",
    "if module_path not in sys.path:\n",
    "    sys.path.append(module_path)\n",
    "\n",
    "from utils.geo import create_area_grid, fix_coords\n",
    "# import patched path (contains ls())\n",
    "from utils.misc import Path"
   ]
  },
  {
   "cell_type": "code",
   "execution_count": 3,
   "metadata": {},
   "outputs": [],
   "source": [
    "data_path = Path('data')"
   ]
  },
  {
   "cell_type": "code",
   "execution_count": 4,
   "metadata": {},
   "outputs": [],
   "source": [
    "def preprocess_edgar_nc(da, convert_n2o_units=True):\n",
    "    if convert_n2o_units:\n",
    "        if da.units == 'kg m-2 s-1':\n",
    "            da = da * 3600 * 24 * 365 * 10000\n",
    "            da.attrs['units'] = 'kg ha-1 yr-1'\n",
    "        else:\n",
    "            print('unexpected unit - no conversion')\n",
    "\n",
    "    # also shift dataset from 0...360 longitude to -180...180\n",
    "    da = da.assign_coords(lon=(((da.lon + 180) % 360) - 180)).sortby('lon')\n",
    "    # make sure we have clean 2 digit lons\n",
    "    da = da.assign_coords(lon=da.lon.round(2))\n",
    "    da['lon'].attrs['long_name'] = 'longitude [degrees_east]'\n",
    "    return da"
   ]
  },
  {
   "cell_type": "markdown",
   "metadata": {},
   "source": [
    "## Bioclimatic zones\n",
    "\n",
    "Load the GeoTiff produced by resampling to 0.1x0.1deg in ArcGIS."
   ]
  },
  {
   "cell_type": "code",
   "execution_count": 5,
   "metadata": {},
   "outputs": [
    {
     "data": {
      "image/png": "[encoded data removed]",
      "text/plain": [
       "<Figure size 432x288 with 2 Axes>"
      ]
     },
     "metadata": {
      "needs_background": "light"
     },
     "output_type": "display_data"
    }
   ],
   "source": [
    "# load bioclimate data (import of resampled geotiff/ source: ArcGIS resampling)\n",
    "bioclim = xr.open_rasterio(data_path / \"africa_bioclimate_01deg.tif\").squeeze(drop=True)\n",
    "bioclim = fix_coords(bioclim, res=0.1)\n",
    "bioclim = bioclim.where(bioclim != -32768).where(bioclim>0)\n",
    "bioclim.plot();"
   ]
  },
  {
   "cell_type": "code",
   "execution_count": 6,
   "metadata": {},
   "outputs": [
    {
     "data": {
      "text/html": [
       "<div>\n",
       "<style scoped>\n",
       "    .dataframe tbody tr th:only-of-type {\n",
       "        vertical-align: middle;\n",
       "    }\n",
       "\n",
       "    .dataframe tbody tr th {\n",
       "        vertical-align: top;\n",
       "    }\n",
       "\n",
       "    .dataframe thead th {\n",
       "        text-align: right;\n",
       "    }\n",
       "</style>\n",
       "<table border=\"1\" class=\"dataframe\">\n",
       "  <thead>\n",
       "    <tr style=\"text-align: right;\">\n",
       "      <th></th>\n",
       "      <th>px_value</th>\n",
       "      <th>thermo_code</th>\n",
       "      <th>thermo_type</th>\n",
       "      <th>ombro_code</th>\n",
       "      <th>ombro_type</th>\n",
       "    </tr>\n",
       "  </thead>\n",
       "  <tbody>\n",
       "    <tr>\n",
       "      <th>0</th>\n",
       "      <td>11</td>\n",
       "      <td>1</td>\n",
       "      <td>Lower Infratropical</td>\n",
       "      <td>1</td>\n",
       "      <td>Ultrahyperarid</td>\n",
       "    </tr>\n",
       "    <tr>\n",
       "      <th>1</th>\n",
       "      <td>12</td>\n",
       "      <td>1</td>\n",
       "      <td>Lower Infratropical</td>\n",
       "      <td>2</td>\n",
       "      <td>Hyperarid</td>\n",
       "    </tr>\n",
       "    <tr>\n",
       "      <th>2</th>\n",
       "      <td>13</td>\n",
       "      <td>1</td>\n",
       "      <td>Lower Infratropical</td>\n",
       "      <td>3</td>\n",
       "      <td>Arid</td>\n",
       "    </tr>\n",
       "    <tr>\n",
       "      <th>3</th>\n",
       "      <td>14</td>\n",
       "      <td>1</td>\n",
       "      <td>Lower Infratropical</td>\n",
       "      <td>4</td>\n",
       "      <td>Semi-Arid</td>\n",
       "    </tr>\n",
       "    <tr>\n",
       "      <th>4</th>\n",
       "      <td>15</td>\n",
       "      <td>1</td>\n",
       "      <td>Lower Infratropical</td>\n",
       "      <td>5</td>\n",
       "      <td>Dry</td>\n",
       "    </tr>\n",
       "  </tbody>\n",
       "</table>\n",
       "</div>"
      ],
      "text/plain": [
       "   px_value  thermo_code          thermo_type  ombro_code      ombro_type\n",
       "0        11            1  Lower Infratropical           1  Ultrahyperarid\n",
       "1        12            1  Lower Infratropical           2       Hyperarid\n",
       "2        13            1  Lower Infratropical           3            Arid\n",
       "3        14            1  Lower Infratropical           4       Semi-Arid\n",
       "4        15            1  Lower Infratropical           5             Dry"
      ]
     },
     "metadata": {},
     "output_type": "display_data"
    },
    {
     "data": {
      "text/plain": [
       "ombro_code\n",
       "1    [11, 21, 31, 41, 51, 61, 71, 131, 141, 151, 16...\n",
       "2    [12, 22, 32, 42, 52, 62, 72, 82, 132, 142, 152...\n",
       "3    [13, 23, 33, 43, 53, 63, 73, 83, 93, 133, 143,...\n",
       "4    [14, 24, 34, 44, 54, 64, 74, 84, 94, 134, 144,...\n",
       "5    [15, 25, 35, 45, 55, 65, 75, 85, 135, 145, 155...\n",
       "6    [16, 26, 36, 46, 56, 66, 76, 86, 96, 156, 166,...\n",
       "7    [17, 27, 37, 47, 57, 67, 77, 87, 97, 107, 157,...\n",
       "8           [28, 38, 48, 58, 68, 78, 88, 98, 108, 288]\n",
       "9      [79, 89, 99, 109, 119, 129, 309, 319, 329, 339]\n",
       "Name: px_value, dtype: object"
      ]
     },
     "execution_count": 6,
     "metadata": {},
     "output_type": "execute_result"
    }
   ],
   "source": [
    "# load lookup table\n",
    "lut = pd.read_csv(data_path / \"africa_bioclimate.csv\")\n",
    "display(lut.head())\n",
    "\n",
    "ombro = lut.groupby(lut.ombro_code).px_value.apply(list)\n",
    "ombro"
   ]
  },
  {
   "cell_type": "code",
   "execution_count": null,
   "metadata": {},
   "outputs": [],
   "source": []
  },
  {
   "cell_type": "markdown",
   "metadata": {},
   "source": [
    "Load lookup table and create code 2 name mapper"
   ]
  },
  {
   "cell_type": "code",
   "execution_count": 7,
   "metadata": {},
   "outputs": [
    {
     "data": {
      "text/plain": [
       "{1: 'Ultrahyperarid',\n",
       " 2: 'Hyperarid',\n",
       " 3: 'Arid',\n",
       " 4: 'Semi-Arid',\n",
       " 5: 'Dry',\n",
       " 6: 'Subhumid',\n",
       " 7: 'Humid',\n",
       " 8: 'Hyperhumid',\n",
       " 9: 'Ultrahyperhumid'}"
      ]
     },
     "execution_count": 7,
     "metadata": {},
     "output_type": "execute_result"
    }
   ],
   "source": [
    "ombro_lu = {k:v for k, v  in zip(lut.ombro_code, lut.ombro_type)}\n",
    "ombro_lu"
   ]
  },
  {
   "cell_type": "code",
   "execution_count": 8,
   "metadata": {},
   "outputs": [
    {
     "data": {
      "image/png": "[encoded data removed]",
      "text/plain": [
       "<Figure size 432x288 with 2 Axes>"
      ]
     },
     "metadata": {
      "needs_background": "light"
     },
     "output_type": "display_data"
    }
   ],
   "source": [
    "# replace values to ombro types\n",
    "# bioclim_ombro: all ombro classes (1...9)\n",
    "# bioclim_dry: only dry ombro classes (1...5)\n",
    "bioclim_ombro = bioclim.copy(deep=True)\n",
    "bioclim_dry = bioclim.copy(deep=True)\n",
    "for i in range(1, 10):\n",
    "    # all ombro types\n",
    "    bioclim_ombro = xr.where(bioclim.isin(ombro[i]) == True, i, bioclim_ombro)\n",
    "bioclim_dry = xr.where(bioclim_ombro.isin([1,2,3,4,5]) == True, 1, 0).where(bioclim_ombro > 0)\n",
    "bioclim_dry.plot();"
   ]
  },
  {
   "cell_type": "code",
   "execution_count": 9,
   "metadata": {},
   "outputs": [],
   "source": [
    "bioclim_dry = bioclim_dry.rename({'x': 'lon', 'y': 'lat'})\n",
    "bioclim_ombro = bioclim_ombro.rename({'x': 'lon', 'y': 'lat'})\n",
    "\n",
    "dsout = xr.Dataset()\n",
    "dsout['dry'] = bioclim_dry.astype('float32')\n",
    "dsout['ombro'] = bioclim_ombro.astype('float32')\n",
    "\n",
    "# sort latitude to go from net to pos\n",
    "dsout = dsout.sortby(dsout.lat)\n",
    "\n",
    "# change type of coords to float32\n",
    "#dsout = dsout.assign_coords(lon=dsout.lon.astype('float32'))\n",
    "#dsout = dsout.assign_coords(lat=dsout.lat.astype('float32'))\n",
    "\n",
    "dsout.to_netcdf('bioclimates.nc')"
   ]
  },
  {
   "cell_type": "code",
   "execution_count": 10,
   "metadata": {},
   "outputs": [],
   "source": [
    "# load bioclimates again\n",
    "bioclim_dry = xr.open_dataset(\"bioclimates.nc\")['dry']\n",
    "bioclim_ombro = xr.open_dataset(\"bioclimates.nc\")['ombro']"
   ]
  },
  {
   "cell_type": "markdown",
   "metadata": {},
   "source": [
    "# Create mask dataset"
   ]
  },
  {
   "cell_type": "code",
   "execution_count": 11,
   "metadata": {},
   "outputs": [],
   "source": [
    "# africa/ sub-sahara masks\n",
    "# codes can be obtained from the lut files in data/tmworld\n",
    "admin = xr.open_dataset(data_path / 'tmworld' / 'tmworld_01deg.nc').sel(lat=slice(-50,40), lon=slice(-30, 60))\n",
    "\n",
    "# fix lon to 2 digit precision\n",
    "admin = fix_coords(admin)\n",
    "\n",
    "# take africa, substract northern africa, add sudan\n",
    "africa = admin.REGION.where(admin.REGION == 2).notnull()\n",
    "africa = africa.where(africa == 1)\n",
    "\n",
    "subafrica = (admin.SUBREGION.where(admin.REGION == 2)\n",
    "                            .where(admin.SUBREGION != 15)).notnull()\n",
    "subafrica = admin.UN.where(admin.UN==736).notnull() + subafrica\n",
    "subafrica = subafrica.where(subafrica == 1)\n",
    "\n",
    "mask = xr.Dataset()\n",
    "mask['africa'] = africa\n",
    "mask['subsahara'] = subafrica\n",
    "mask.to_netcdf('mask.nc')"
   ]
  },
  {
   "cell_type": "markdown",
   "metadata": {},
   "source": [
    "# Create area grid"
   ]
  },
  {
   "cell_type": "code",
   "execution_count": 12,
   "metadata": {},
   "outputs": [],
   "source": [
    "# create an area grid for calculation of totals (use n2o data grid as ref)\n",
    "# ref used to create area grid\n",
    "ref = xr.open_dataset(data_path / 'v50_N2O_2015' / 'v50_N2O_2015.0.1x0.1.nc')['emi_n2o']\n",
    "ref = fix_coords(ref)\n",
    "ref = preprocess_edgar_nc(ref)\n",
    "\n",
    "area = create_area_grid(ref)\n",
    "area = area.sel(lat=slice(-50,40), lon=slice(-30, 60))\n",
    "area.to_netcdf('area.nc')"
   ]
  },
  {
   "cell_type": "code",
   "execution_count": 13,
   "metadata": {},
   "outputs": [
    {
     "data": {
      "text/plain": [
       "29792319.89"
      ]
     },
     "execution_count": 13,
     "metadata": {},
     "output_type": "execute_result"
    }
   ],
   "source": [
    "# check area africa ~ 30mio km2\n",
    "(area*africa).sum().values.round(1)/100"
   ]
  },
  {
   "cell_type": "markdown",
   "metadata": {},
   "source": [
    "# Checks"
   ]
  },
  {
   "cell_type": "code",
   "execution_count": 14,
   "metadata": {},
   "outputs": [
    {
     "data": {
      "image/png": "[encoded data removed]",
      "text/plain": [
       "<Figure size 1008x216 with 6 Axes>"
      ]
     },
     "metadata": {
      "needs_background": "light"
     },
     "output_type": "display_data"
    }
   ],
   "source": [
    "africa = xr.open_dataset('mask.nc')['africa'].where(bioclim_ombro > 0)\n",
    "subsahara = xr.open_dataset('mask.nc')['subsahara'].where(bioclim_ombro > 0)\n",
    "subsaharadry = xr.open_dataset('mask.nc')['subsahara'].where(bioclim_dry == 1)\n",
    "\n",
    "fig, ax = plt.subplots(1, 3 , figsize=(14,3))\n",
    "africa.plot(ax=ax[0])\n",
    "subsahara.plot(ax=ax[1])\n",
    "subsaharadry.plot(ax=ax[2])\n",
    "ax[0].set_title(\"Mask: Africa\")\n",
    "ax[1].set_title(\"Mask: Sub-Sahara\")\n",
    "ax[2].set_title(\"Mask: Sub-Sahara dry\");"
   ]
  },
  {
   "cell_type": "code",
   "execution_count": null,
   "metadata": {},
   "outputs": [],
   "source": []
  },
  {
   "cell_type": "markdown",
   "metadata": {},
   "source": [
    "# Create livestock grids\n",
    "\n",
    "We first need to convert the ESRI Binary Grid files from Jaber to GeoTiffs and/ or netcdfs:\n",
    "\n",
    "```bash\n",
    "$ gdal_translate -of GTiff af-sh/w001001.adf af-sh.tif \n",
    "```"
   ]
  },
  {
   "cell_type": "code",
   "execution_count": 41,
   "metadata": {},
   "outputs": [],
   "source": [
    "a_ct = xr.open_rasterio(data_path / 'resampled-population' / 'af-ct.tif').squeeze(drop=True)\n",
    "a_sh = xr.open_rasterio(data_path / 'resampled-population' / 'af-sh.tif').squeeze(drop=True)\n",
    "a_gt = xr.open_rasterio(data_path / 'resampled-population' / 'af-gt.tif').squeeze(drop=True)"
   ]
  },
  {
   "cell_type": "code",
   "execution_count": 42,
   "metadata": {},
   "outputs": [],
   "source": [
    "a_ct = a_ct.rename({'x': 'lon', 'y': 'lat'})\n",
    "a_sh = a_sh.rename({'x': 'lon', 'y': 'lat'})\n",
    "a_gt = a_gt.rename({'x': 'lon', 'y': 'lat'})\n",
    "\n",
    "# we also need to correct the numbers since the original values were based on count per 0.083333x0.833333deg grids\n",
    "# and resampled to 0.1x0.1\n",
    "conv_factor = 0.1**2 / (0.0833333*0.0833333)\n",
    "\n",
    "dsout = xr.Dataset()\n",
    "dsout['cattle'] = a_ct.where(a_ct > -1).astype('float32') * conv_factor\n",
    "dsout['sheep'] = a_sh.where(a_sh > -1).astype('float32') * conv_factor\n",
    "dsout['goats'] = a_gt.where(a_gt > -1).astype('float32') * conv_factor\n",
    "\n",
    "dsout['cattle'].attrs\n",
    "\n",
    "dsout = dsout.sortby(dsout.lat)\n",
    "# important so we can do a multiply and not loose cells !!! \n",
    "# check that we have 900x900 afterwards (float32/64 mismatch multi will give 180x180!) \n",
    "dsout['lat'] = dsout['lat'].astype('float32')\n",
    "dsout['lon'] = dsout['lon'].astype('float32')\n",
    "\n",
    "# add units\n",
    "dsout['cattle'].attrs['units'] = \"livestock count gridcell-1\"\n",
    "dsout['sheep'].attrs['units'] = \"livestock count gridcell-1\"\n",
    "dsout['goats'].attrs['units'] = \"livestock count gridcell-1\""
   ]
  },
  {
   "cell_type": "code",
   "execution_count": 43,
   "metadata": {},
   "outputs": [],
   "source": [
    "dsout = dsout * africa "
   ]
  },
  {
   "cell_type": "code",
   "execution_count": 45,
   "metadata": {},
   "outputs": [],
   "source": [
    "dsout.to_netcdf(\"livestock.nc\")"
   ]
  },
  {
   "cell_type": "code",
   "execution_count": null,
   "metadata": {},
   "outputs": [],
   "source": [
    "\n",
    "\n"
   ]
  }
 ],
 "metadata": {
  "kernelspec": {
   "display_name": "datascience",
   "language": "python",
   "name": "datascience"
  },
  "language_info": {
   "codemirror_mode": {
    "name": "ipython",
    "version": 3
   },
   "file_extension": ".py",
   "mimetype": "text/x-python",
   "name": "python",
   "nbconvert_exporter": "python",
   "pygments_lexer": "ipython3",
   "version": "3.7.4"
  }
 },
 "nbformat": 4,
 "nbformat_minor": 4
}
