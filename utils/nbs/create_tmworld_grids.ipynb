{
 "cells": [
  {
   "cell_type": "markdown",
   "metadata": {},
   "source": [
    "# Rasterize regions"
   ]
  },
  {
   "cell_type": "code",
   "execution_count": 1,
   "metadata": {},
   "outputs": [],
   "source": [
    "%matplotlib inline\n",
    "%load_ext autoreload\n",
    "%autoreload 2"
   ]
  },
  {
   "cell_type": "code",
   "execution_count": 2,
   "metadata": {},
   "outputs": [],
   "source": [
    "import xarray as xr \n",
    "import numpy as np\n",
    "import geopandas as gpd\n",
    "import pandas as pd\n",
    "import matplotlib.pyplot as plt"
   ]
  },
  {
   "cell_type": "code",
   "execution_count": 4,
   "metadata": {},
   "outputs": [
    {
     "data": {
      "text/html": [
       "<div>\n",
       "<style scoped>\n",
       "    .dataframe tbody tr th:only-of-type {\n",
       "        vertical-align: middle;\n",
       "    }\n",
       "\n",
       "    .dataframe tbody tr th {\n",
       "        vertical-align: top;\n",
       "    }\n",
       "\n",
       "    .dataframe thead th {\n",
       "        text-align: right;\n",
       "    }\n",
       "</style>\n",
       "<table border=\"1\" class=\"dataframe\">\n",
       "  <thead>\n",
       "    <tr style=\"text-align: right;\">\n",
       "      <th></th>\n",
       "      <th>FIPS</th>\n",
       "      <th>ISO2</th>\n",
       "      <th>ISO3</th>\n",
       "      <th>UN</th>\n",
       "      <th>NAME</th>\n",
       "      <th>AREA</th>\n",
       "      <th>POP2005</th>\n",
       "      <th>REGION</th>\n",
       "      <th>SUBREGION</th>\n",
       "      <th>LON</th>\n",
       "      <th>LAT</th>\n",
       "      <th>geometry</th>\n",
       "    </tr>\n",
       "  </thead>\n",
       "  <tbody>\n",
       "    <tr>\n",
       "      <td>0</td>\n",
       "      <td>AC</td>\n",
       "      <td>AG</td>\n",
       "      <td>ATG</td>\n",
       "      <td>28</td>\n",
       "      <td>Antigua and Barbuda</td>\n",
       "      <td>44</td>\n",
       "      <td>83039</td>\n",
       "      <td>19</td>\n",
       "      <td>29</td>\n",
       "      <td>-61.783</td>\n",
       "      <td>17.078</td>\n",
       "      <td>(POLYGON ((-61.686668 17.02444100000014, -61.7...</td>\n",
       "    </tr>\n",
       "    <tr>\n",
       "      <td>1</td>\n",
       "      <td>AG</td>\n",
       "      <td>DZ</td>\n",
       "      <td>DZA</td>\n",
       "      <td>12</td>\n",
       "      <td>Algeria</td>\n",
       "      <td>238174</td>\n",
       "      <td>32854159</td>\n",
       "      <td>2</td>\n",
       "      <td>15</td>\n",
       "      <td>2.632</td>\n",
       "      <td>28.163</td>\n",
       "      <td>POLYGON ((9.537113 30.23439, 9.511388999999999...</td>\n",
       "    </tr>\n",
       "    <tr>\n",
       "      <td>2</td>\n",
       "      <td>AJ</td>\n",
       "      <td>AZ</td>\n",
       "      <td>AZE</td>\n",
       "      <td>31</td>\n",
       "      <td>Azerbaijan</td>\n",
       "      <td>8260</td>\n",
       "      <td>8352021</td>\n",
       "      <td>142</td>\n",
       "      <td>145</td>\n",
       "      <td>47.395</td>\n",
       "      <td>40.430</td>\n",
       "      <td>(POLYGON ((46.17824600000012 38.84114799999998...</td>\n",
       "    </tr>\n",
       "    <tr>\n",
       "      <td>3</td>\n",
       "      <td>AL</td>\n",
       "      <td>AL</td>\n",
       "      <td>ALB</td>\n",
       "      <td>8</td>\n",
       "      <td>Albania</td>\n",
       "      <td>2740</td>\n",
       "      <td>3153731</td>\n",
       "      <td>150</td>\n",
       "      <td>39</td>\n",
       "      <td>20.068</td>\n",
       "      <td>41.143</td>\n",
       "      <td>POLYGON ((19.367771 41.848999, 19.34333 41.912...</td>\n",
       "    </tr>\n",
       "    <tr>\n",
       "      <td>4</td>\n",
       "      <td>AM</td>\n",
       "      <td>AM</td>\n",
       "      <td>ARM</td>\n",
       "      <td>51</td>\n",
       "      <td>Armenia</td>\n",
       "      <td>2820</td>\n",
       "      <td>3017661</td>\n",
       "      <td>142</td>\n",
       "      <td>145</td>\n",
       "      <td>44.563</td>\n",
       "      <td>40.534</td>\n",
       "      <td>(POLYGON ((45.51305000000002 40.60721999999998...</td>\n",
       "    </tr>\n",
       "  </tbody>\n",
       "</table>\n",
       "</div>"
      ],
      "text/plain": [
       "  FIPS ISO2 ISO3  UN                 NAME    AREA   POP2005  REGION  \\\n",
       "0   AC   AG  ATG  28  Antigua and Barbuda      44     83039      19   \n",
       "1   AG   DZ  DZA  12              Algeria  238174  32854159       2   \n",
       "2   AJ   AZ  AZE  31           Azerbaijan    8260   8352021     142   \n",
       "3   AL   AL  ALB   8              Albania    2740   3153731     150   \n",
       "4   AM   AM  ARM  51              Armenia    2820   3017661     142   \n",
       "\n",
       "   SUBREGION     LON     LAT  \\\n",
       "0         29 -61.783  17.078   \n",
       "1         15   2.632  28.163   \n",
       "2        145  47.395  40.430   \n",
       "3         39  20.068  41.143   \n",
       "4        145  44.563  40.534   \n",
       "\n",
       "                                            geometry  \n",
       "0  (POLYGON ((-61.686668 17.02444100000014, -61.7...  \n",
       "1  POLYGON ((9.537113 30.23439, 9.511388999999999...  \n",
       "2  (POLYGON ((46.17824600000012 38.84114799999998...  \n",
       "3  POLYGON ((19.367771 41.848999, 19.34333 41.912...  \n",
       "4  (POLYGON ((45.51305000000002 40.60721999999998...  "
      ]
     },
     "execution_count": 4,
     "metadata": {},
     "output_type": "execute_result"
    }
   ],
   "source": [
    "tm = gpd.read_file('data/tmworld/tmworld-ms.shp')\n",
    "tm.head()"
   ]
  },
  {
   "cell_type": "code",
   "execution_count": 5,
   "metadata": {},
   "outputs": [],
   "source": [
    "# https://github.com/mathause/regionmask/issues/24#issue-274700026\n",
    "\n",
    "from affine import Affine\n",
    "from rasterio import features\n",
    "\n",
    "def transform_from_latlon(lat, lon):\n",
    "    '''perform an affine tranformation to the latitude/longitude coordinates'''\n",
    "    lat = np.asarray(lat)\n",
    "    lon = np.asarray(lon)\n",
    "    trans = Affine.translation(lon[0], lat[0])\n",
    "    scale = Affine.scale(lon[1] - lon[0], lat[1] - lat[0])\n",
    "    return trans * scale\n",
    "\n",
    "\n",
    "def rasterize(shapes, coords, fill=np.nan, **kwargs):\n",
    "    \"\"\"Rasterize a list of (geometry, fill_value) tuples onto the given\n",
    "    xarray coordinates. This only works for 1d latitude and longitude\n",
    "    arrays.\n",
    "    \"\"\"\n",
    "    transform = transform_from_latlon(coords['lat'], coords['lon'])\n",
    "    out_shape = (len(coords['lat']), len(coords['lon']))\n",
    "    raster = features.rasterize(shapes, out_shape=out_shape,\n",
    "                                fill=fill, transform=transform,\n",
    "                                dtype=np.float, **kwargs)\n",
    "    return xr.DataArray(raster, coords=coords, dims=('lat', 'lon'), name='region')"
   ]
  },
  {
   "cell_type": "code",
   "execution_count": 7,
   "metadata": {},
   "outputs": [],
   "source": [
    "# rasterize\n",
    "NODATA = -9999\n",
    "ENC = {k:{'dtype': 'int16', 'zlib': True, '_FillValue': NODATA} for k in ['UN', 'REGION', 'SUBREGION']}\n",
    "\n",
    "with xr.open_dataset('area.nc')['area'] as ref:\n",
    "    COORDS={'lon': ref.coords['lon'],'lat': ref.coords['lat']}\n",
    "\n",
    "with xr.Dataset() as dsout:\n",
    "    dsout['UN'] = rasterize(zip(tm.geometry, tm.UN), coords=COORDS)\n",
    "    dsout['REGION'] = rasterize(zip(tm.geometry, tm.REGION), coords=COORDS)\n",
    "    dsout['SUBREGION'] = rasterize(zip(tm.geometry, tm.SUBREGION), coords=COORDS)\n",
    "    dsout.to_netcdf(f'data/tmworld_01deg.nc', encoding=ENC)\n"
   ]
  },
  {
   "cell_type": "code",
   "execution_count": 12,
   "metadata": {},
   "outputs": [
    {
     "data": {
      "image/png": "[encoded data removed]",
      "text/plain": [
       "<Figure size 432x288 with 2 Axes>"
      ]
     },
     "metadata": {
      "needs_background": "light"
     },
     "output_type": "display_data"
    }
   ],
   "source": [
    "ds = xr.open_dataset(\"../tmworld/tmworld_MR.nc\")\n",
    "ds.SUBREGION.plot();"
   ]
  },
  {
   "cell_type": "code",
   "execution_count": null,
   "metadata": {},
   "outputs": [],
   "source": []
  },
  {
   "cell_type": "code",
   "execution_count": null,
   "metadata": {},
   "outputs": [],
   "source": []
  }
 ],
 "metadata": {
  "kernelspec": {
   "display_name": "datascience",
   "language": "python",
   "name": "datascience"
  },
  "language_info": {
   "codemirror_mode": {
    "name": "ipython",
    "version": 3
   },
   "file_extension": ".py",
   "mimetype": "text/x-python",
   "name": "python",
   "nbconvert_exporter": "python",
   "pygments_lexer": "ipython3",
   "version": "3.7.4"
  }
 },
 "nbformat": 4,
 "nbformat_minor": 4
}
